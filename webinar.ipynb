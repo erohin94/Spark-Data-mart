{
 "cells": [
  {
   "cell_type": "markdown",
   "id": "5115a487",
   "metadata": {
    "slideshow": {
     "slide_type": "-"
    }
   },
   "source": [
    "## Создаем Spark-сессию"
   ]
  },
  {
   "cell_type": "code",
   "execution_count": 1,
   "id": "73e12adf",
   "metadata": {},
   "outputs": [],
   "source": [
    "import pyspark.sql.functions as F\n",
    "from pyspark.sql import SparkSession\n",
    "from pyspark.sql.window import Window"
   ]
  },
  {
   "cell_type": "code",
   "execution_count": 2,
   "id": "8bd0b7ac",
   "metadata": {},
   "outputs": [],
   "source": [
    "jar_files = [\n",
    "    \"E:\\\\EDesktop\\\\Webinar\\\\postgresql-42.7.5.jar\",\n",
    "    \"E:\\\\EDesktop\\\\Webinar\\\\clickhouse-jdbc-0.4.6.jar\"\n",
    "]"
   ]
  },
  {
   "cell_type": "code",
   "execution_count": 4,
   "id": "c4bc0c21",
   "metadata": {},
   "outputs": [],
   "source": [
    "spark = (\n",
    "    SparkSession\n",
    "    .builder\n",
    "    .appName(\"SparkWebinar\")\n",
    "    .config(\"spark.jars\", \",\".join(jar_files))\n",
    "    .getOrCreate()\n",
    ")"
   ]
  },
  {
   "cell_type": "code",
   "execution_count": 3,
   "id": "1d0a3dae-a742-4637-948b-84cbe011945e",
   "metadata": {},
   "outputs": [
    {
     "data": {
      "text/plain": [
       "'E:\\\\EDesktop\\\\Webinar\\\\postgresql-42.7.5.jar,E:\\\\EDesktop\\\\Webinar\\\\clickhouse-jdbc-0.4.6.jar'"
      ]
     },
     "execution_count": 3,
     "metadata": {},
     "output_type": "execute_result"
    }
   ],
   "source": [
    "\",\".join(jar_files)"
   ]
  },
  {
   "cell_type": "code",
   "execution_count": 5,
   "id": "96186883",
   "metadata": {},
   "outputs": [
    {
     "data": {
      "text/html": [
       "\n",
       "            <div>\n",
       "                <p><b>SparkSession - in-memory</b></p>\n",
       "                \n",
       "        <div>\n",
       "            <p><b>SparkContext</b></p>\n",
       "\n",
       "            <p><a href=\"http://host.docker.internal:4040\">Spark UI</a></p>\n",
       "\n",
       "            <dl>\n",
       "              <dt>Version</dt>\n",
       "                <dd><code>v3.2.1</code></dd>\n",
       "              <dt>Master</dt>\n",
       "                <dd><code>local[*]</code></dd>\n",
       "              <dt>AppName</dt>\n",
       "                <dd><code>SparkWebinar</code></dd>\n",
       "            </dl>\n",
       "        </div>\n",
       "        \n",
       "            </div>\n",
       "        "
      ],
      "text/plain": [
       "<pyspark.sql.session.SparkSession at 0x2b7d8014ef0>"
      ]
     },
     "execution_count": 5,
     "metadata": {},
     "output_type": "execute_result"
    }
   ],
   "source": [
    "spark"
   ]
  },
  {
   "cell_type": "markdown",
   "id": "99e06d89-42ca-481a-b15a-fc91b2ccf0b2",
   "metadata": {},
   "source": [
    "## Подключаемся к источникам"
   ]
  },
  {
   "cell_type": "markdown",
   "id": "0c494523-0f84-46d0-a4ed-aedba591a59a",
   "metadata": {},
   "source": [
    "### csv"
   ]
  },
  {
   "cell_type": "code",
   "execution_count": 6,
   "id": "c2937cc2-4db9-4170-b878-05d20bade443",
   "metadata": {},
   "outputs": [],
   "source": [
    "path = 'E:\\\\EDesktop\\\\Webinar\\\\data'"
   ]
  },
  {
   "cell_type": "code",
   "execution_count": 7,
   "id": "e2c7b746-2641-4f10-a406-e35de0a738ce",
   "metadata": {},
   "outputs": [],
   "source": [
    "campaigns_dict = (\n",
    "    spark.read\n",
    "    .option('header', True)\n",
    "    .csv(f'{path}\\\\campaigns_dict.csv')\n",
    ")"
   ]
  },
  {
   "cell_type": "code",
   "execution_count": 10,
   "id": "aa91c891",
   "metadata": {},
   "outputs": [
    {
     "name": "stdout",
     "output_type": "stream",
     "text": [
      "+-----------+------------------------------------------+\n",
      "|campaign_id|campaign_name                             |\n",
      "+-----------+------------------------------------------+\n",
      "|1          |year_modern_kitchen_launch_20250115       |\n",
      "|2          |quarter_custom_kitchens_showcase_20240210 |\n",
      "|3          |month_smart_kitchen_promotion_20240305    |\n",
      "|4          |year_luxury_kitchens_exhibit_20240420     |\n",
      "|5          |quarter_ecofriendly_kitchen_offer_20240512|\n",
      "+-----------+------------------------------------------+\n",
      "only showing top 5 rows\n",
      "\n"
     ]
    }
   ],
   "source": [
    "# ленивые вычисления (transformations, actions)\n",
    "campaigns_dict.show(5, truncate=False)"
   ]
  },
  {
   "cell_type": "code",
   "execution_count": 13,
   "id": "5acc17f0-1a17-4fe7-a4aa-55d8a7506b66",
   "metadata": {},
   "outputs": [
    {
     "name": "stdout",
     "output_type": "stream",
     "text": [
      "root\n",
      " |-- campaign_id: string (nullable = true)\n",
      " |-- campaign_name: string (nullable = true)\n",
      "\n"
     ]
    }
   ],
   "source": [
    "campaigns_dict.printSchema()"
   ]
  },
  {
   "cell_type": "markdown",
   "id": "455eeda6-b05e-4d14-8aeb-78e741c415b3",
   "metadata": {},
   "source": [
    "### parquet"
   ]
  },
  {
   "cell_type": "code",
   "execution_count": 14,
   "id": "d67d9c4a",
   "metadata": {},
   "outputs": [],
   "source": [
    "submits = spark.read.parquet(f'{path}\\\\submits.parquet')"
   ]
  },
  {
   "cell_type": "code",
   "execution_count": 15,
   "id": "55a80a64-5cf2-43cd-88d4-058fb7ab00a3",
   "metadata": {},
   "outputs": [
    {
     "name": "stdout",
     "output_type": "stream",
     "text": [
      "+---------+--------+-----------+\n",
      "|submit_id|name    |phone      |\n",
      "+---------+--------+-----------+\n",
      "|2282     |Jennifer|79511904041|\n",
      "|9898     |Jeffrey |79824419733|\n",
      "|9005     |Linda   |79074725672|\n",
      "|1507     |Teresa  |79864203598|\n",
      "|3803     |Tanya   |79779567654|\n",
      "+---------+--------+-----------+\n",
      "only showing top 5 rows\n",
      "\n"
     ]
    }
   ],
   "source": [
    "submits.show(5, truncate=False)"
   ]
  },
  {
   "cell_type": "code",
   "execution_count": 16,
   "id": "b1ecb90f-5bc6-40ed-9ffc-d7dfb710ca26",
   "metadata": {},
   "outputs": [
    {
     "name": "stdout",
     "output_type": "stream",
     "text": [
      "root\n",
      " |-- submit_id: long (nullable = true)\n",
      " |-- name: string (nullable = true)\n",
      " |-- phone: long (nullable = true)\n",
      "\n"
     ]
    }
   ],
   "source": [
    "submits.printSchema()"
   ]
  },
  {
   "cell_type": "code",
   "execution_count": 17,
   "id": "a94caee0-586d-4ff4-934b-642104eb5781",
   "metadata": {},
   "outputs": [],
   "source": [
    "deals = spark.read.parquet(f'{path}\\\\deals.parquet')"
   ]
  },
  {
   "cell_type": "code",
   "execution_count": 18,
   "id": "b05a882b-3bfd-467f-9b69-45b12655a65f",
   "metadata": {},
   "outputs": [
    {
     "name": "stdout",
     "output_type": "stream",
     "text": [
      "+-------+----------+---------------------+-----------+------------------------+-----------------------------------------------------+\n",
      "|deal_id|deal_date |fio                  |phone      |email                   |address                                              |\n",
      "+-------+----------+---------------------+-----------+------------------------+-----------------------------------------------------+\n",
      "|1      |2024-03-04|Gregory Wu           |79746561889|paul80@example.net      |098 Yates Cliff Apt. 241, East Monica, DE 88076      |\n",
      "|2      |2024-08-20|William Ross Jr.     |79074725672|xyoung@example.org      |197 Willie Groves Apt. 655, Port Angelaberg, LA 39384|\n",
      "|3      |2024-10-15|Sonya Kerr           |79201244835|elewis@example.com      |144 Andrew Cape, Lake Nicholas, SC 58918             |\n",
      "|4      |2024-12-31|Mrs. Angela Tucker MD|79771829751|robertparker@example.net|6056 Collins View, South Harold, OR 15650            |\n",
      "|5      |2024-03-23|Eric Flores          |79729054809|barbara73@example.net   |29684 Mcfarland Burg Suite 225, New Joseph, PW 68120 |\n",
      "+-------+----------+---------------------+-----------+------------------------+-----------------------------------------------------+\n",
      "only showing top 5 rows\n",
      "\n"
     ]
    }
   ],
   "source": [
    "deals.show(5, truncate=False)"
   ]
  },
  {
   "cell_type": "code",
   "execution_count": 19,
   "id": "70d1e29e-8a3e-4843-9c17-f4651eb864db",
   "metadata": {},
   "outputs": [
    {
     "name": "stdout",
     "output_type": "stream",
     "text": [
      "-RECORD 0----------------------------------------------------------\n",
      " deal_id   | 1                                                     \n",
      " deal_date | 2024-03-04                                            \n",
      " fio       | Gregory Wu                                            \n",
      " phone     | 79746561889                                           \n",
      " email     | paul80@example.net                                    \n",
      " address   | 098 Yates Cliff Apt. 241, East Monica, DE 88076       \n",
      "-RECORD 1----------------------------------------------------------\n",
      " deal_id   | 2                                                     \n",
      " deal_date | 2024-08-20                                            \n",
      " fio       | William Ross Jr.                                      \n",
      " phone     | 79074725672                                           \n",
      " email     | xyoung@example.org                                    \n",
      " address   | 197 Willie Groves Apt. 655, Port Angelaberg, LA 39384 \n",
      "only showing top 2 rows\n",
      "\n"
     ]
    }
   ],
   "source": [
    "deals.show(2, truncate=False, vertical=True)"
   ]
  },
  {
   "cell_type": "code",
   "execution_count": 20,
   "id": "9648da5d-895c-4af4-af92-5f3e2c17d8ee",
   "metadata": {},
   "outputs": [
    {
     "name": "stdout",
     "output_type": "stream",
     "text": [
      "root\n",
      " |-- deal_id: long (nullable = true)\n",
      " |-- deal_date: string (nullable = true)\n",
      " |-- fio: string (nullable = true)\n",
      " |-- phone: long (nullable = true)\n",
      " |-- email: string (nullable = true)\n",
      " |-- address: string (nullable = true)\n",
      "\n"
     ]
    }
   ],
   "source": [
    "deals.printSchema()"
   ]
  },
  {
   "cell_type": "code",
   "execution_count": 21,
   "id": "5a852b3b-414b-4ed3-beab-0e8dff35b262",
   "metadata": {},
   "outputs": [],
   "source": [
    "import pyarrow as pa\n",
    "import pyarrow.parquet as pq"
   ]
  },
  {
   "cell_type": "code",
   "execution_count": 22,
   "id": "c1e573b2-df58-4fa3-b678-db870261ad1b",
   "metadata": {},
   "outputs": [
    {
     "data": {
      "text/plain": [
       "<pyarrow._parquet.FileMetaData object at 0x000002B7D8374540>\n",
       "  created_by: parquet-cpp-arrow version 19.0.0\n",
       "  num_columns: 3\n",
       "  num_rows: 4000\n",
       "  num_row_groups: 1\n",
       "  format_version: 2.6\n",
       "  serialized_size: 2371"
      ]
     },
     "execution_count": 22,
     "metadata": {},
     "output_type": "execute_result"
    }
   ],
   "source": [
    "pq.read_metadata(f'{path}\\\\submits.parquet')  # Parquet recommends row groups sized between 512MB and 1GB"
   ]
  },
  {
   "cell_type": "code",
   "execution_count": 23,
   "id": "bda7a557-91f7-48e8-80f0-621851531cdd",
   "metadata": {},
   "outputs": [
    {
     "data": {
      "text/plain": [
       "4000"
      ]
     },
     "execution_count": 23,
     "metadata": {},
     "output_type": "execute_result"
    }
   ],
   "source": [
    "submits.count()"
   ]
  },
  {
   "cell_type": "markdown",
   "id": "dd26f19a-bb31-4419-9c12-75e177e656c9",
   "metadata": {},
   "source": [
    "### postgres"
   ]
  },
  {
   "cell_type": "code",
   "execution_count": 24,
   "id": "e5ea9d8c",
   "metadata": {},
   "outputs": [],
   "source": [
    "pg_host = 'localhost'\n",
    "pg_port = '5434'\n",
    "pg_db = 'webinar'\n",
    "pg_table = 'costs'\n",
    "pg_user = 'postgres'\n",
    "pg_password = 'postgres'"
   ]
  },
  {
   "cell_type": "code",
   "execution_count": 25,
   "id": "be5c5d56",
   "metadata": {},
   "outputs": [],
   "source": [
    "costs = (\n",
    "    spark.read\n",
    "    .format('jdbc')\n",
    "    .option('url', f'jdbc:postgresql://{pg_host}:{pg_port}/{pg_db}')\n",
    "    .option('dbtable', pg_table)\n",
    "    .option('user', pg_user)\n",
    "    .option('password', pg_password)\n",
    "    .option('driver', 'org.postgresql.Driver')\n",
    "    .load()\n",
    ")"
   ]
  },
  {
   "cell_type": "code",
   "execution_count": 26,
   "id": "26a48834",
   "metadata": {},
   "outputs": [
    {
     "name": "stdout",
     "output_type": "stream",
     "text": [
      "+----------+-----------+------+------+-----+\n",
      "|date      |campaign_id|costs |clicks|views|\n",
      "+----------+-----------+------+------+-----+\n",
      "|2024-01-01|1          |670.52|40    |110  |\n",
      "|2024-01-01|2          |602.5 |11    |849  |\n",
      "|2024-01-01|3          |654.74|51    |566  |\n",
      "|2024-01-01|4          |897.24|86    |679  |\n",
      "|2024-01-01|5          |758.19|30    |585  |\n",
      "+----------+-----------+------+------+-----+\n",
      "only showing top 5 rows\n",
      "\n"
     ]
    }
   ],
   "source": [
    "costs.show(5, truncate=False)  # заглянуть в pgAdmin"
   ]
  },
  {
   "cell_type": "code",
   "execution_count": 27,
   "id": "37fb3d4c",
   "metadata": {},
   "outputs": [
    {
     "name": "stdout",
     "output_type": "stream",
     "text": [
      "root\n",
      " |-- date: date (nullable = true)\n",
      " |-- campaign_id: integer (nullable = true)\n",
      " |-- costs: double (nullable = true)\n",
      " |-- clicks: integer (nullable = true)\n",
      " |-- views: integer (nullable = true)\n",
      "\n"
     ]
    }
   ],
   "source": [
    "costs.printSchema()"
   ]
  },
  {
   "cell_type": "markdown",
   "id": "3b512b56-bf3f-4080-8485-478ae6a6c03b",
   "metadata": {},
   "source": [
    "### clickhouse"
   ]
  },
  {
   "cell_type": "code",
   "execution_count": 28,
   "id": "62b9db3c-a577-47fa-b4c2-1231623e4187",
   "metadata": {},
   "outputs": [],
   "source": [
    "ch_host = 'localhost'\n",
    "ch_port = '8123'\n",
    "ch_db = 'default'\n",
    "ch_table = 'visits'"
   ]
  },
  {
   "cell_type": "code",
   "execution_count": 31,
   "id": "cc87b48d",
   "metadata": {},
   "outputs": [],
   "source": [
    "visits = (\n",
    "    spark.read\n",
    "    .format('jdbc')\n",
    "    .option('url', f'jdbc:clickhouse://{ch_host}:{ch_port}/{ch_db}')\n",
    "    .option('dbtable', ch_table)\n",
    "    .option('driver', 'com.clickhouse.jdbc.ClickHouseDriver')\n",
    "    .load()\n",
    ")"
   ]
  },
  {
   "cell_type": "code",
   "execution_count": 32,
   "id": "2051f15f",
   "metadata": {},
   "outputs": [
    {
     "name": "stdout",
     "output_type": "stream",
     "text": [
      "+-------+-------------------+--------------------+--------+--------+--------+--------------------+----------------+\n",
      "|visitid|      visitDateTime|                 URL|duration|clientID|  source|         UTMCampaign|          params|\n",
      "+-------+-------------------+--------------------+--------+--------+--------+--------------------+----------------+\n",
      "| 189665|2024-01-01 00:19:38|https://our-cool-...|      78|     848|  direct|quarter_ecofriend...|['submit', 2136]|\n",
      "| 504698|2024-01-01 00:59:20|https://our-cool-...|       8|     527|  direct|year_modern_kitch...|['submit', 4630]|\n",
      "| 632370|2024-01-01 01:49:09|https://our-cool-...|      72|     520| organic|quarter_ecofriend...|['submit', 2734]|\n",
      "| 943112|2024-01-01 02:20:28|https://our-cool-...|      14|     117| organic|month_openconcept...|['submit', 5299]|\n",
      "| 139778|2024-01-01 07:31:30|https://our-cool-...|      73|     655|internal|month_contemporar...| ['submit', 419]|\n",
      "+-------+-------------------+--------------------+--------+--------+--------+--------------------+----------------+\n",
      "only showing top 5 rows\n",
      "\n"
     ]
    }
   ],
   "source": [
    "visits.show(5)"
   ]
  },
  {
   "cell_type": "code",
   "execution_count": 33,
   "id": "1370895c-e12c-4337-bc46-3f6096c22123",
   "metadata": {},
   "outputs": [
    {
     "name": "stdout",
     "output_type": "stream",
     "text": [
      "-RECORD 0-----------------------------------------------------\n",
      " visitid       | 189665                                       \n",
      " visitDateTime | 2024-01-01 00:19:38                          \n",
      " URL           | https://our-cool-website.com/checkout        \n",
      " duration      | 78                                           \n",
      " clientID      | 848                                          \n",
      " source        | direct                                       \n",
      " UTMCampaign   | quarter_ecofriendly_kitchens_launch_20240205 \n",
      " params        | ['submit', 2136]                             \n",
      "only showing top 1 row\n",
      "\n"
     ]
    }
   ],
   "source": [
    "visits.show(1, truncate=False, vertical=True)"
   ]
  },
  {
   "cell_type": "code",
   "execution_count": 34,
   "id": "f87f2fcc",
   "metadata": {},
   "outputs": [
    {
     "name": "stdout",
     "output_type": "stream",
     "text": [
      "root\n",
      " |-- visitid: integer (nullable = true)\n",
      " |-- visitDateTime: timestamp (nullable = true)\n",
      " |-- URL: string (nullable = true)\n",
      " |-- duration: integer (nullable = true)\n",
      " |-- clientID: integer (nullable = true)\n",
      " |-- source: string (nullable = true)\n",
      " |-- UTMCampaign: string (nullable = true)\n",
      " |-- params: string (nullable = true)\n",
      "\n"
     ]
    }
   ],
   "source": [
    "visits.printSchema()"
   ]
  },
  {
   "cell_type": "code",
   "execution_count": null,
   "id": "7d067ef0-edf3-4e14-bd1d-7dad746f53bf",
   "metadata": {},
   "outputs": [],
   "source": [
    "# методология и моника"
   ]
  },
  {
   "cell_type": "markdown",
   "id": "f80ae79f-fffb-456e-9ff5-99c28f227a59",
   "metadata": {},
   "source": [
    "## Готовим источники"
   ]
  },
  {
   "cell_type": "markdown",
   "id": "d1f32d2f-28ae-41ea-9e0d-b7e9bb4ae330",
   "metadata": {},
   "source": [
    "### Визиты (clickhouse)"
   ]
  },
  {
   "cell_type": "code",
   "execution_count": null,
   "id": "1d3a04b4",
   "metadata": {},
   "outputs": [],
   "source": [
    "visits.show(1)"
   ]
  },
  {
   "cell_type": "code",
   "execution_count": 36,
   "id": "74b730dd",
   "metadata": {},
   "outputs": [],
   "source": [
    "# кх\n",
    "filtered_step1 = (\n",
    "    visits\n",
    "    .withColumn('dt', F.date_format(F.col('visitDateTime'), 'yyyy-MM-dd'))\n",
    "    .where(F.col('dt').between('2024-01-01', '2025-01-27'))\n",
    "    .where(F.col('source').isin('ad', 'direct'))\n",
    "    .where(F.col('URL').rlike('.*checkout.*|.*add.*|.*home.*|.*contact.*|.*top50.*|.*customer-service.*|.*wishlist.*|.*sale.*|.*best-sellers.*|.*view.*|.*discount.*|.*featured.*|.*new-arrivals.*|.*settings.*|.*return-policy.*|.*edit.*|.*delete.*|.*reviews.*|.*products.*|.*about.*'))\n",
    "    .select(\n",
    "        'dt',\n",
    "        'visitid',\n",
    "        'clientID',\n",
    "        'URL',\n",
    "        'duration',\n",
    "        'source',\n",
    "        'UTMCampaign',\n",
    "        'params',\n",
    "        F.regexp_replace(F.col('params'), r'\\[|\\]', '').alias('params_regex')\n",
    "    )\n",
    "    .withColumn('params_split', F.split('params_regex', ', '))\n",
    ")"
   ]
  },
  {
   "cell_type": "code",
   "execution_count": 37,
   "id": "ec51ae40",
   "metadata": {},
   "outputs": [
    {
     "name": "stdout",
     "output_type": "stream",
     "text": [
      "-RECORD 0----------------------------------------------------\n",
      " dt           | 2024-01-01                                   \n",
      " visitid      | 189665                                       \n",
      " clientID     | 848                                          \n",
      " URL          | https://our-cool-website.com/checkout        \n",
      " duration     | 78                                           \n",
      " source       | direct                                       \n",
      " UTMCampaign  | quarter_ecofriendly_kitchens_launch_20240205 \n",
      " params       | ['submit', 2136]                             \n",
      " params_regex | 'submit', 2136                               \n",
      " params_split | ['submit', 2136]                             \n",
      "only showing top 1 row\n",
      "\n"
     ]
    }
   ],
   "source": [
    "filtered_step1.show(1, truncate=False, vertical=True)"
   ]
  },
  {
   "cell_type": "code",
   "execution_count": 38,
   "id": "0c4896bf",
   "metadata": {},
   "outputs": [
    {
     "name": "stdout",
     "output_type": "stream",
     "text": [
      "root\n",
      " |-- dt: string (nullable = true)\n",
      " |-- visitid: integer (nullable = true)\n",
      " |-- clientID: integer (nullable = true)\n",
      " |-- URL: string (nullable = true)\n",
      " |-- duration: integer (nullable = true)\n",
      " |-- source: string (nullable = true)\n",
      " |-- UTMCampaign: string (nullable = true)\n",
      " |-- params: string (nullable = true)\n",
      " |-- params_regex: string (nullable = true)\n",
      " |-- params_split: array (nullable = true)\n",
      " |    |-- element: string (containsNull = true)\n",
      "\n"
     ]
    }
   ],
   "source": [
    "filtered_step1.printSchema()  # string vs array"
   ]
  },
  {
   "cell_type": "code",
   "execution_count": 40,
   "id": "cccef3c8",
   "metadata": {},
   "outputs": [],
   "source": [
    "filtered_step2 = (\n",
    "    filtered_step1\n",
    "    .withColumn('event_type', F.regexp_replace(F.col('params_split')[0], \"'\", ''))\n",
    "    .withColumn('event_id', F.col('params_split')[1].cast('int'))\n",
    ")"
   ]
  },
  {
   "cell_type": "code",
   "execution_count": 125,
   "id": "b12ffa14",
   "metadata": {},
   "outputs": [
    {
     "name": "stdout",
     "output_type": "stream",
     "text": [
      "-RECORD 0----------------------------------------------------\n",
      " dt           | 2024-01-01                                   \n",
      " visitid      | 189665                                       \n",
      " clientID     | 848                                          \n",
      " URL          | https://our-cool-website.com/checkout        \n",
      " duration     | 78                                           \n",
      " source       | direct                                       \n",
      " UTMCampaign  | quarter_ecofriendly_kitchens_launch_20240205 \n",
      " params       | ['submit', 2136]                             \n",
      " params_regex | 'submit', 2136                               \n",
      " params_split | ['submit', 2136]                             \n",
      " event_type   | submit                                       \n",
      " event_id     | 2136                                         \n",
      "only showing top 1 row\n",
      "\n"
     ]
    }
   ],
   "source": [
    "filtered_step2.show(1, truncate=False, vertical=True)"
   ]
  },
  {
   "cell_type": "code",
   "execution_count": 126,
   "id": "768cfd06-0130-4007-aa1c-276876ba5692",
   "metadata": {},
   "outputs": [
    {
     "name": "stdout",
     "output_type": "stream",
     "text": [
      "root\n",
      " |-- dt: string (nullable = true)\n",
      " |-- visitid: integer (nullable = true)\n",
      " |-- clientID: integer (nullable = true)\n",
      " |-- URL: string (nullable = true)\n",
      " |-- duration: integer (nullable = true)\n",
      " |-- source: string (nullable = true)\n",
      " |-- UTMCampaign: string (nullable = true)\n",
      " |-- params: string (nullable = true)\n",
      " |-- params_regex: string (nullable = true)\n",
      " |-- params_split: array (nullable = true)\n",
      " |    |-- element: string (containsNull = true)\n",
      " |-- event_type: string (nullable = true)\n",
      " |-- event_id: integer (nullable = true)\n",
      "\n"
     ]
    }
   ],
   "source": [
    "filtered_step2.printSchema()"
   ]
  },
  {
   "cell_type": "code",
   "execution_count": 41,
   "id": "9b9076f4",
   "metadata": {},
   "outputs": [],
   "source": [
    "visits_df = (\n",
    "    filtered_step2\n",
    "    .where(F.col('event_type') == 'submit')\n",
    "    .select(\n",
    "        'dt',\n",
    "        F.col('visitid').cast('string').alias('visitid'),\n",
    "        F.col('clientID').cast('string').alias('clientid'),\n",
    "        'URL',\n",
    "        'duration',\n",
    "        'source',\n",
    "        'UTMCampaign',\n",
    "        'event_type',\n",
    "        'event_id'\n",
    "    )\n",
    "    .distinct()\n",
    ")"
   ]
  },
  {
   "cell_type": "code",
   "execution_count": 129,
   "id": "ac624766",
   "metadata": {},
   "outputs": [
    {
     "name": "stdout",
     "output_type": "stream",
     "text": [
      "-RECORD 0------------------------------------------------\n",
      " dt          | 2024-02-07                                \n",
      " visitid     | 925403                                    \n",
      " clientid    | 418                                       \n",
      " URL         | https://our-cool-website.com/best-sellers \n",
      " duration    | 9                                         \n",
      " source      | direct                                    \n",
      " UTMCampaign | year_luxury_kitchens_event_20250120       \n",
      " event_type  | submit                                    \n",
      " event_id    | 7485                                      \n",
      "only showing top 1 row\n",
      "\n"
     ]
    }
   ],
   "source": [
    "visits_df.show(1, truncate=False, vertical=True)"
   ]
  },
  {
   "cell_type": "code",
   "execution_count": 130,
   "id": "83b8e8ad-ef1c-482e-8ffe-840acef4f1d6",
   "metadata": {},
   "outputs": [
    {
     "name": "stdout",
     "output_type": "stream",
     "text": [
      "root\n",
      " |-- dt: string (nullable = true)\n",
      " |-- visitid: string (nullable = true)\n",
      " |-- clientid: string (nullable = true)\n",
      " |-- URL: string (nullable = true)\n",
      " |-- duration: integer (nullable = true)\n",
      " |-- source: string (nullable = true)\n",
      " |-- UTMCampaign: string (nullable = true)\n",
      " |-- event_type: string (nullable = true)\n",
      " |-- event_id: integer (nullable = true)\n",
      "\n"
     ]
    }
   ],
   "source": [
    "visits_df.printSchema()"
   ]
  },
  {
   "cell_type": "code",
   "execution_count": 131,
   "id": "c1ab1c4e",
   "metadata": {},
   "outputs": [
    {
     "data": {
      "text/plain": [
       "2433"
      ]
     },
     "execution_count": 131,
     "metadata": {},
     "output_type": "execute_result"
    }
   ],
   "source": [
    "visits_df.count()"
   ]
  },
  {
   "cell_type": "code",
   "execution_count": 132,
   "id": "6ee8ecfe-a211-494d-96b5-f3804d7a2a62",
   "metadata": {},
   "outputs": [
    {
     "data": {
      "text/plain": [
       "10000"
      ]
     },
     "execution_count": 132,
     "metadata": {},
     "output_type": "execute_result"
    }
   ],
   "source": [
    "visits.count()"
   ]
  },
  {
   "cell_type": "markdown",
   "id": "4ec8dba6-cc3c-40d7-89b7-d338cfdc4352",
   "metadata": {},
   "source": [
    "### Расходы (postgres)"
   ]
  },
  {
   "cell_type": "code",
   "execution_count": 51,
   "id": "f7b30f05",
   "metadata": {},
   "outputs": [],
   "source": [
    "costs_df = (\n",
    "    costs\n",
    "    .groupBy(\n",
    "        F.col('date').cast('string').alias('date'),\n",
    "        'campaign_id'\n",
    "    )\n",
    "    .agg(\n",
    "        F.sum(F.col('costs')).cast('decimal(19,2)').alias('costs'),\n",
    "        F.sum(F.col('clicks')).alias('clicks'),\n",
    "        F.sum(F.col('views')).alias('views')\n",
    "    )\n",
    ")"
   ]
  },
  {
   "cell_type": "code",
   "execution_count": 136,
   "id": "b2062bd4",
   "metadata": {},
   "outputs": [
    {
     "name": "stdout",
     "output_type": "stream",
     "text": [
      "+----------+-----------+------+------+-----+\n",
      "|      date|campaign_id| costs|clicks|views|\n",
      "+----------+-----------+------+------+-----+\n",
      "|2024-01-05|         75|107.03|    26|  958|\n",
      "|2024-01-05|         97|408.51|    59|  292|\n",
      "|2024-01-06|         44|748.68|    33|  380|\n",
      "|2024-01-06|         58|422.91|    30|  575|\n",
      "|2024-01-11|         91|496.45|     5|  435|\n",
      "+----------+-----------+------+------+-----+\n",
      "only showing top 5 rows\n",
      "\n"
     ]
    }
   ],
   "source": [
    "costs_df.show(5)"
   ]
  },
  {
   "cell_type": "code",
   "execution_count": 138,
   "id": "d5d530fa",
   "metadata": {},
   "outputs": [
    {
     "name": "stdout",
     "output_type": "stream",
     "text": [
      "root\n",
      " |-- date: string (nullable = true)\n",
      " |-- campaign_id: integer (nullable = true)\n",
      " |-- costs: decimal(19,2) (nullable = true)\n",
      " |-- clicks: long (nullable = true)\n",
      " |-- views: long (nullable = true)\n",
      "\n"
     ]
    }
   ],
   "source": [
    "costs_df.printSchema()"
   ]
  },
  {
   "cell_type": "markdown",
   "id": "fcb06153-03d1-43d1-9bfa-46a461982b27",
   "metadata": {},
   "source": [
    "### Кампании (csv)"
   ]
  },
  {
   "cell_type": "code",
   "execution_count": 139,
   "id": "6ab92f40",
   "metadata": {},
   "outputs": [
    {
     "name": "stdout",
     "output_type": "stream",
     "text": [
      "+-----------+-----------------------------------+\n",
      "|campaign_id|campaign_name                      |\n",
      "+-----------+-----------------------------------+\n",
      "|1          |year_modern_kitchen_launch_20250115|\n",
      "+-----------+-----------------------------------+\n",
      "only showing top 1 row\n",
      "\n"
     ]
    }
   ],
   "source": [
    "campaigns_dict.show(1, truncate=False)"
   ]
  },
  {
   "cell_type": "code",
   "execution_count": null,
   "id": "ff6dc19d",
   "metadata": {},
   "outputs": [],
   "source": [
    "campaigns_dict.printSchema()"
   ]
  },
  {
   "cell_type": "code",
   "execution_count": 42,
   "id": "430c698c",
   "metadata": {},
   "outputs": [],
   "source": [
    "campaigns_df = (\n",
    "    campaigns_dict\n",
    "    .withColumn('campaign_id', F.col('campaign_id').cast('integer'))\n",
    "    .withColumn(\n",
    "        'campaign_duration',\n",
    "        F.when(F.col('campaign_name').like('year%'), 'Год')\n",
    "        .when(F.col('campaign_name').like('quarter%'), 'Квартал')\n",
    "        .when(F.col('campaign_name').like('month%'), 'Месяц')\n",
    "        .otherwise(None)\n",
    "    )\n",
    ")"
   ]
  },
  {
   "cell_type": "code",
   "execution_count": 43,
   "id": "68b5c654-e437-4c7f-9afd-4b2e0250e360",
   "metadata": {},
   "outputs": [
    {
     "name": "stdout",
     "output_type": "stream",
     "text": [
      "+-----------+------------------------------------------+-----------------+\n",
      "|campaign_id|campaign_name                             |campaign_duration|\n",
      "+-----------+------------------------------------------+-----------------+\n",
      "|1          |year_modern_kitchen_launch_20250115       |Год              |\n",
      "|2          |quarter_custom_kitchens_showcase_20240210 |Квартал          |\n",
      "|3          |month_smart_kitchen_promotion_20240305    |Месяц            |\n",
      "|4          |year_luxury_kitchens_exhibit_20240420     |Год              |\n",
      "|5          |quarter_ecofriendly_kitchen_offer_20240512|Квартал          |\n",
      "+-----------+------------------------------------------+-----------------+\n",
      "only showing top 5 rows\n",
      "\n"
     ]
    }
   ],
   "source": [
    "campaigns_df.show(5, truncate=False)"
   ]
  },
  {
   "cell_type": "code",
   "execution_count": 44,
   "id": "5f8aaea9",
   "metadata": {},
   "outputs": [
    {
     "name": "stdout",
     "output_type": "stream",
     "text": [
      "root\n",
      " |-- campaign_id: integer (nullable = true)\n",
      " |-- campaign_name: string (nullable = true)\n",
      " |-- campaign_duration: string (nullable = true)\n",
      "\n"
     ]
    }
   ],
   "source": [
    "campaigns_df.printSchema()"
   ]
  },
  {
   "cell_type": "markdown",
   "id": "8bd8b9a7-c2e9-4bd7-936f-79d906bbe732",
   "metadata": {},
   "source": [
    "### Заявки (parquet)"
   ]
  },
  {
   "cell_type": "code",
   "execution_count": null,
   "id": "5c76bb79-b407-416e-a660-258047df0caf",
   "metadata": {},
   "outputs": [],
   "source": [
    "submits.printSchema()"
   ]
  },
  {
   "cell_type": "code",
   "execution_count": null,
   "id": "435ec1f0-24bb-4e55-a707-7a92ec2c6ada",
   "metadata": {},
   "outputs": [],
   "source": [
    "submits.show(1)"
   ]
  },
  {
   "cell_type": "code",
   "execution_count": 45,
   "id": "be6a420a-282c-450f-848e-e284ee1cc920",
   "metadata": {},
   "outputs": [],
   "source": [
    "submits_df = (\n",
    "    submits\n",
    "    .withColumn('phone', F.col('phone').cast('string'))\n",
    "    .withColumn('phone_plus', F.concat(F.lit('+'), F.col('phone')))\n",
    "    .withColumn('phone_md5', F.md5('phone'))\n",
    "    .withColumn('phone_plus_md5', F.md5('phone_plus'))\n",
    ")"
   ]
  },
  {
   "cell_type": "code",
   "execution_count": 46,
   "id": "1257648c-e354-4fb3-890e-531499035ba6",
   "metadata": {},
   "outputs": [
    {
     "name": "stdout",
     "output_type": "stream",
     "text": [
      "+---------+--------+-----------+------------+--------------------------------+--------------------------------+\n",
      "|submit_id|name    |phone      |phone_plus  |phone_md5                       |phone_plus_md5                  |\n",
      "+---------+--------+-----------+------------+--------------------------------+--------------------------------+\n",
      "|2282     |Jennifer|79511904041|+79511904041|4c7720fdf6f9eec623dc0f961f31f488|6ce81d5347bcd3eadb2921b7c4828e3b|\n",
      "|9898     |Jeffrey |79824419733|+79824419733|9d106e45036bd4176774eb94adc9aacc|43630233dcc965f9827e394038b0321a|\n",
      "+---------+--------+-----------+------------+--------------------------------+--------------------------------+\n",
      "only showing top 2 rows\n",
      "\n"
     ]
    }
   ],
   "source": [
    "submits_df.show(2, truncate=False)"
   ]
  },
  {
   "cell_type": "markdown",
   "id": "4cda030f-24be-49b4-8ab0-ffef104acbca",
   "metadata": {},
   "source": [
    "### Сделки (parquet)"
   ]
  },
  {
   "cell_type": "code",
   "execution_count": null,
   "id": "efdb6dc4-e007-4820-8b96-92ee77a00109",
   "metadata": {},
   "outputs": [],
   "source": [
    "deals.printSchema()"
   ]
  },
  {
   "cell_type": "code",
   "execution_count": 47,
   "id": "3b936a37-ff2b-4908-96d2-96cbf64b500e",
   "metadata": {},
   "outputs": [],
   "source": [
    "deals_df = (\n",
    "    deals\n",
    "    .withColumn('username', F.split(F.col('email'), '@').getItem(0))\n",
    "    .withColumn('domain', F.split(F.col('email'), '@').getItem(1))\n",
    "    .where(F.col('domain').isin('example.com', 'example.org', 'example.net'))\n",
    "    .withColumn('phone', F.col('phone').cast('string'))\n",
    ")"
   ]
  },
  {
   "cell_type": "code",
   "execution_count": 48,
   "id": "7092951f-54f5-42e7-a628-f9f74bdd8a3e",
   "metadata": {},
   "outputs": [
    {
     "name": "stdout",
     "output_type": "stream",
     "text": [
      "+-------+----------+----------+-----------+------------------+--------------------+--------+-----------+\n",
      "|deal_id| deal_date|       fio|      phone|             email|             address|username|     domain|\n",
      "+-------+----------+----------+-----------+------------------+--------------------+--------+-----------+\n",
      "|      1|2024-03-04|Gregory Wu|79746561889|paul80@example.net|098 Yates Cliff A...|  paul80|example.net|\n",
      "+-------+----------+----------+-----------+------------------+--------------------+--------+-----------+\n",
      "only showing top 1 row\n",
      "\n"
     ]
    }
   ],
   "source": [
    "deals_df.show(1)"
   ]
  },
  {
   "cell_type": "code",
   "execution_count": 146,
   "id": "5756c606-27ab-4d51-befd-6255ff576e74",
   "metadata": {},
   "outputs": [
    {
     "name": "stdout",
     "output_type": "stream",
     "text": [
      "root\n",
      " |-- deal_id: long (nullable = true)\n",
      " |-- deal_date: string (nullable = true)\n",
      " |-- fio: string (nullable = true)\n",
      " |-- phone: string (nullable = true)\n",
      " |-- email: string (nullable = true)\n",
      " |-- address: string (nullable = true)\n",
      " |-- username: string (nullable = true)\n",
      " |-- domain: string (nullable = true)\n",
      "\n"
     ]
    }
   ],
   "source": [
    "deals_df.printSchema()"
   ]
  },
  {
   "cell_type": "markdown",
   "id": "8f88ba84-8040-4477-8ee0-e3ef1a16056a",
   "metadata": {},
   "source": [
    "## Собираем витрину"
   ]
  },
  {
   "cell_type": "code",
   "execution_count": 54,
   "id": "50a54002-03b7-439c-adb1-ecf1a539ad09",
   "metadata": {},
   "outputs": [],
   "source": [
    "# концепция \"One Big Table\"\n",
    "customer_detailed = (\n",
    "    visits_df.alias('v')\n",
    "    .join(\n",
    "        submits_df.alias('s'),\n",
    "        F.col('v.event_id') == F.col('s.submit_id'),\n",
    "        'left'\n",
    "    )\n",
    "    .join(\n",
    "        deals_df.alias('d'),\n",
    "        (F.col('s.phone') == F.col('d.phone')) &\n",
    "        (F.col('v.dt') <= F.col('d.deal_date')),\n",
    "        'left'\n",
    "    )\n",
    "    .join(\n",
    "        campaigns_df.alias('camp'),\n",
    "        F.col('v.utmcampaign') == F.col('camp.campaign_name'),\n",
    "        'left'\n",
    "    )\n",
    "    .join(\n",
    "        costs_df.alias('c'),\n",
    "        (F.col('camp.campaign_id') == F.col('c.campaign_id')) &\n",
    "        (F.col('v.dt') == F.col('c.date')),\n",
    "        'left'\n",
    "    )\n",
    "    .select(\n",
    "        'v.dt',\n",
    "        F.col('v.visitid').alias('visit_id'),\n",
    "        F.col('v.clientid').alias('client_id'),\n",
    "        'v.url',\n",
    "        'v.duration',\n",
    "        'v.source',\n",
    "        'v.utmcampaign',\n",
    "        'v.event_type',\n",
    "        'v.event_id',\n",
    "        's.submit_id',\n",
    "        's.name',\n",
    "        's.phone',\n",
    "        's.phone_plus',\n",
    "        's.phone_md5',\n",
    "        's.phone_plus_md5',\n",
    "        'd.deal_id',\n",
    "        'd.deal_date',\n",
    "        'd.fio',\n",
    "        F.col('d.phone').alias('phone_deal'),\n",
    "        'd.email',\n",
    "        'd.address',\n",
    "        'd.username',\n",
    "        'd.domain',\n",
    "        'camp.campaign_name',\n",
    "        'camp.campaign_duration',\n",
    "        'c.costs',\n",
    "        'c.clicks',\n",
    "        'c.views'\n",
    "    )\n",
    ")"
   ]
  },
  {
   "cell_type": "code",
   "execution_count": 56,
   "id": "af370faa-a672-4310-96de-5d8e8383fa7c",
   "metadata": {},
   "outputs": [
    {
     "name": "stdout",
     "output_type": "stream",
     "text": [
      "root\n",
      " |-- dt: string (nullable = true)\n",
      " |-- visit_id: string (nullable = true)\n",
      " |-- client_id: string (nullable = true)\n",
      " |-- url: string (nullable = true)\n",
      " |-- duration: integer (nullable = true)\n",
      " |-- source: string (nullable = true)\n",
      " |-- utmcampaign: string (nullable = true)\n",
      " |-- event_type: string (nullable = true)\n",
      " |-- event_id: integer (nullable = true)\n",
      " |-- submit_id: long (nullable = true)\n",
      " |-- name: string (nullable = true)\n",
      " |-- phone: string (nullable = true)\n",
      " |-- phone_plus: string (nullable = true)\n",
      " |-- phone_md5: string (nullable = true)\n",
      " |-- phone_plus_md5: string (nullable = true)\n",
      " |-- deal_id: long (nullable = true)\n",
      " |-- deal_date: string (nullable = true)\n",
      " |-- fio: string (nullable = true)\n",
      " |-- phone_deal: string (nullable = true)\n",
      " |-- email: string (nullable = true)\n",
      " |-- address: string (nullable = true)\n",
      " |-- username: string (nullable = true)\n",
      " |-- domain: string (nullable = true)\n",
      " |-- campaign_name: string (nullable = true)\n",
      " |-- campaign_duration: string (nullable = true)\n",
      " |-- costs: decimal(19,2) (nullable = true)\n",
      " |-- clicks: long (nullable = true)\n",
      " |-- views: long (nullable = true)\n",
      "\n"
     ]
    }
   ],
   "source": [
    "customer_detailed.printSchema()"
   ]
  },
  {
   "cell_type": "code",
   "execution_count": 55,
   "id": "05902960-4241-4bd1-8138-4aaeb4478830",
   "metadata": {},
   "outputs": [
    {
     "data": {
      "text/plain": [
       "28"
      ]
     },
     "execution_count": 55,
     "metadata": {},
     "output_type": "execute_result"
    }
   ],
   "source": [
    "len(customer_detailed.columns)"
   ]
  },
  {
   "cell_type": "code",
   "execution_count": 153,
   "id": "065768c2-d713-447b-ad45-827617840109",
   "metadata": {},
   "outputs": [
    {
     "data": {
      "text/plain": [
       "DataFrame[dt: string, visit_id: string, client_id: string, url: string, duration: int, source: string, utmcampaign: string, event_type: string, event_id: int, submit_id: bigint, name: string, phone: string, phone_plus: string, phone_md5: string, phone_plus_md5: string, deal_id: bigint, deal_date: string, fio: string, phone_deal: string, email: string, address: string, username: string, domain: string, campaign_name: string, costs: decimal(19,2), clicks: bigint, views: bigint]"
      ]
     },
     "execution_count": 153,
     "metadata": {},
     "output_type": "execute_result"
    }
   ],
   "source": [
    "customer_detailed.cache()"
   ]
  },
  {
   "cell_type": "code",
   "execution_count": 154,
   "id": "79f7e827-bb1e-4403-9be8-6c8fdb294beb",
   "metadata": {},
   "outputs": [
    {
     "data": {
      "text/plain": [
       "2639"
      ]
     },
     "execution_count": 154,
     "metadata": {},
     "output_type": "execute_result"
    }
   ],
   "source": [
    "customer_detailed.count()  # Spark UI"
   ]
  },
  {
   "cell_type": "code",
   "execution_count": 22,
   "id": "63a0387a-2a9d-4802-ab40-602adf1016e9",
   "metadata": {},
   "outputs": [],
   "source": [
    "campaigns_agg = (\n",
    "    customer_detailed\n",
    "    .groupBy('campaign_name')\n",
    "    .agg(\n",
    "        F.countDistinct('visit_id').alias('unique_visits'),\n",
    "        F.countDistinct('client_id').alias('unique_clients'),\n",
    "        F.countDistinct('submit_id').alias('unique_submits'),\n",
    "        F.countDistinct('deal_id').alias('unique_deals'),\n",
    "        F.sum('costs').alias('total_costs'),\n",
    "        F.sum('clicks').alias('total_clicks'),\n",
    "        F.sum('views').alias('total_views'),\n",
    "        F.sum('duration').alias('total_duration')\n",
    "    )\n",
    "    .withColumn('avg_deal_cost', (F.col('total_costs') / F.col('unique_deals')).cast('decimal(19,2)'))\n",
    ")"
   ]
  },
  {
   "cell_type": "code",
   "execution_count": 158,
   "id": "9011e291-8b0c-402f-95b6-e2973d2138b3",
   "metadata": {},
   "outputs": [
    {
     "data": {
      "text/plain": [
       "99"
      ]
     },
     "execution_count": 158,
     "metadata": {},
     "output_type": "execute_result"
    }
   ],
   "source": [
    "campaigns_agg.cache().count()"
   ]
  },
  {
   "cell_type": "code",
   "execution_count": 159,
   "id": "e9f57847-2dbb-4d66-aca0-f49d2e416630",
   "metadata": {
    "scrolled": true
   },
   "outputs": [
    {
     "name": "stdout",
     "output_type": "stream",
     "text": [
      "-RECORD 0-------------------------------------------------\n",
      " campaign_name  | year_traditional_kitchens_demo_20240725 \n",
      " unique_visits  | 22                                      \n",
      " unique_clients | 21                                      \n",
      " unique_submits | 5                                       \n",
      " unique_deals   | 1                                       \n",
      " total_costs    | 12243.64                                \n",
      " total_clicks   | 1429                                    \n",
      " total_views    | 14294                                   \n",
      " total_duration | 1100                                    \n",
      " avg_deal_cost  | 12243.64                                \n",
      "only showing top 1 row\n",
      "\n"
     ]
    }
   ],
   "source": [
    "campaigns_agg.show(1, truncate=False, vertical=True)"
   ]
  },
  {
   "cell_type": "code",
   "execution_count": 23,
   "id": "7ffba609-2561-4437-ab1a-4c6f697cd3dc",
   "metadata": {},
   "outputs": [],
   "source": [
    "dates_agg = (\n",
    "    customer_detailed\n",
    "    .groupBy(F.substring('dt', 1, 7).alias('month'))  # 2025-01-01\n",
    "    .agg(\n",
    "        F.countDistinct('visit_id').alias('unique_visits'),\n",
    "        F.countDistinct('client_id').alias('unique_clients'),\n",
    "        F.countDistinct('submit_id').alias('unique_submits'),\n",
    "        F.countDistinct('deal_id').alias('unique_deals'),\n",
    "        F.sum('costs').alias('total_costs'),\n",
    "        F.sum('clicks').alias('total_clicks'),\n",
    "        F.sum('views').alias('total_views'),\n",
    "        F.sum('duration').alias('total_duration')\n",
    "    )\n",
    "    .withColumn('avg_deal_cost', (F.col('total_costs') / F.col('unique_deals')).cast('decimal(19,2)'))\n",
    ")"
   ]
  },
  {
   "cell_type": "code",
   "execution_count": 163,
   "id": "aaa28fd1-2f1d-4708-a43f-a4715d8cb087",
   "metadata": {},
   "outputs": [
    {
     "data": {
      "text/plain": [
       "13"
      ]
     },
     "execution_count": 163,
     "metadata": {},
     "output_type": "execute_result"
    }
   ],
   "source": [
    "dates_agg.cache().count()"
   ]
  },
  {
   "cell_type": "code",
   "execution_count": 164,
   "id": "28fffd65-1fcb-4d72-9c48-5035fdcc5f1e",
   "metadata": {},
   "outputs": [
    {
     "name": "stdout",
     "output_type": "stream",
     "text": [
      "-RECORD 0-------------------\n",
      " month          | 2024-09   \n",
      " unique_visits  | 192       \n",
      " unique_clients | 169       \n",
      " unique_submits | 68        \n",
      " unique_deals   | 16        \n",
      " total_costs    | 100674.35 \n",
      " total_clicks   | 10320     \n",
      " total_views    | 101022    \n",
      " total_duration | 10285     \n",
      " avg_deal_cost  | 6292.15   \n",
      "only showing top 1 row\n",
      "\n"
     ]
    }
   ],
   "source": [
    "dates_agg.show(1, truncate=False, vertical=True)"
   ]
  },
  {
   "cell_type": "code",
   "execution_count": 52,
   "id": "e50de017-7348-4ac9-9fa0-27ee822884d1",
   "metadata": {},
   "outputs": [],
   "source": [
    "def save_to_postgres(df, table_name):\n",
    "    (\n",
    "        df.write\n",
    "        .format('jdbc')\n",
    "        .option('url', f'jdbc:postgresql://{pg_host}:{pg_port}/{pg_db}')\n",
    "        .option('dbtable', table_name)\n",
    "        .option('user', pg_user)\n",
    "        .option('password', pg_password)\n",
    "        .option('driver', 'org.postgresql.Driver')\n",
    "        .mode(\"overwrite\")\n",
    "        .save()\n",
    "    )"
   ]
  },
  {
   "cell_type": "code",
   "execution_count": 57,
   "id": "60587774-7ab5-4866-bd05-ba2c8d62701e",
   "metadata": {},
   "outputs": [],
   "source": [
    "save_to_postgres(customer_detailed, 'customer_detailed')"
   ]
  },
  {
   "cell_type": "code",
   "execution_count": 31,
   "id": "13d94198-a722-4d92-89be-5660d09be698",
   "metadata": {},
   "outputs": [],
   "source": [
    "save_to_postgres(campaigns_agg, 'campaigns_agg')"
   ]
  },
  {
   "cell_type": "code",
   "execution_count": 30,
   "id": "2a6dafc3-336a-490a-939f-d8af6358e1e9",
   "metadata": {},
   "outputs": [],
   "source": [
    "save_to_postgres(dates_agg, 'dates_agg')"
   ]
  },
  {
   "cell_type": "markdown",
   "id": "32ae92f4-f484-468b-a965-0ed30027ae8a",
   "metadata": {},
   "source": [
    "## Считаем метрики и анализируем результаты"
   ]
  },
  {
   "cell_type": "code",
   "execution_count": 165,
   "id": "6909ec75-714b-4bd0-9129-1ccfcff89a7c",
   "metadata": {},
   "outputs": [
    {
     "name": "stdout",
     "output_type": "stream",
     "text": [
      "+-----------------------------------------------+-----------+------------+\n",
      "|campaign_name                                  |total_costs|unique_deals|\n",
      "+-----------------------------------------------+-----------+------------+\n",
      "|month_contemporary_kitchens_event_20241208     |8277.73    |0           |\n",
      "|quarter_custom_kitchens_showcase_20240210      |8397.63    |0           |\n",
      "|month_smart_kitchens_launch_20240330           |8703.22    |0           |\n",
      "|month_smart_kitchen_promotion_20240305         |10276.42   |0           |\n",
      "|month_ecofriendly_kitchens_experience_20241219 |10559.40   |0           |\n",
      "|month_contemporary_kitchens_event_20240920     |10640.55   |0           |\n",
      "|quarter_ecofriendly_kitchen_experience_20241119|10804.92   |0           |\n",
      "|year_traditional_kitchens_showcase_20241018    |11655.58   |0           |\n",
      "|year_modern_kitchens_demo_20240419             |12028.69   |0           |\n",
      "|quarter_luxury_kitchens_innovation_20241116    |12894.26   |0           |\n",
      "|month_openconcept_kitchens_initiative_20240328 |13321.93   |0           |\n",
      "|month_openconcept_kitchens_experience_20240910 |14042.09   |0           |\n",
      "|quarter_custom_kitchens_experience_20240527    |15456.61   |0           |\n",
      "+-----------------------------------------------+-----------+------------+\n",
      "\n"
     ]
    }
   ],
   "source": [
    "# 1. Кампании без выручки\n",
    "(\n",
    "    campaigns_agg\n",
    "    .where('unique_deals = 0')\n",
    "    .select('campaign_name', 'total_costs', 'unique_deals')\n",
    "    .sort('total_costs')\n",
    "    .show(truncate=False)\n",
    ")"
   ]
  },
  {
   "cell_type": "code",
   "execution_count": 168,
   "id": "46595b51-044c-4e2c-ae8d-7a430fdd86eb",
   "metadata": {},
   "outputs": [
    {
     "name": "stdout",
     "output_type": "stream",
     "text": [
      "+--------------------+----------------+\n",
      "|count(campaign_name)|sum(total_costs)|\n",
      "+--------------------+----------------+\n",
      "|                  13|       147059.03|\n",
      "+--------------------+----------------+\n",
      "\n"
     ]
    }
   ],
   "source": [
    "(\n",
    "    campaigns_agg\n",
    "    .where('unique_deals = 0')\n",
    "    .select(F.count('campaign_name'), F.sum('total_costs'))\n",
    "    .show()\n",
    ")"
   ]
  },
  {
   "cell_type": "code",
   "execution_count": 169,
   "id": "ac86acbd-85aa-455c-9868-7720b5ee4d1d",
   "metadata": {},
   "outputs": [
    {
     "name": "stdout",
     "output_type": "stream",
     "text": [
      "+------------------------------------------------+-----------+------------+-------------+\n",
      "|campaign_name                                   |total_costs|unique_deals|avg_deal_cost|\n",
      "+------------------------------------------------+-----------+------------+-------------+\n",
      "|year_modern_kitchens_showcase_20241014          |10936.74   |8           |1367.09      |\n",
      "|quarter_custom_kitchens_innovation_20240817     |15422.19   |10          |1542.22      |\n",
      "|month_contemporary_kitchens_promotion_20241215  |12423.61   |8           |1552.95      |\n",
      "|quarter_custom_kitchens_experience_20240222     |15455.11   |9           |1717.23      |\n",
      "|year_modern_kitchen_experience_20240702         |9068.35    |5           |1813.67      |\n",
      "|year_smart_kitchens_initiative_20241004         |12958.53   |6           |2159.76      |\n",
      "|quarter_custom_kitchen_initiative_20241102      |18846.27   |8           |2355.78      |\n",
      "|month_openconcept_kitchens_promotion_20240628   |15318.45   |6           |2553.08      |\n",
      "|year_traditional_kitchens_fair_20240415         |20811.03   |8           |2601.38      |\n",
      "|year_smart_kitchens_event_20250102              |13104.20   |5           |2620.84      |\n",
      "|quarter_ecofriendly_kitchens_demo_20240514      |7883.50    |3           |2627.83      |\n",
      "|quarter_spacesaving_kitchens_innovation_20240212|16360.49   |6           |2726.75      |\n",
      "|year_modern_kitchens_exhibit_20250117           |11588.74   |4           |2897.19      |\n",
      "|month_openconcept_kitchens_launch_20240611      |11876.59   |4           |2969.15      |\n",
      "|month_smart_kitchen_innovation_20241202         |12190.29   |4           |3047.57      |\n",
      "|year_luxury_kitchens_innovation_20240409        |12445.78   |4           |3111.45      |\n",
      "|year_luxury_kitchens_initiative_20240422        |15571.00   |5           |3114.20      |\n",
      "|quarter_custom_kitchens_event_20240223          |12704.20   |4           |3176.05      |\n",
      "|month_contemporary_kitchens_initiative_20240928 |12734.58   |4           |3183.65      |\n",
      "|quarter_ecofriendly_kitchens_show_20240217      |17046.15   |5           |3409.23      |\n",
      "+------------------------------------------------+-----------+------------+-------------+\n",
      "only showing top 20 rows\n",
      "\n"
     ]
    }
   ],
   "source": [
    "# 2. Средняя цена сделки\n",
    "(\n",
    "    campaigns_agg\n",
    "    .where('unique_deals > 0')\n",
    "    .select('campaign_name', 'total_costs', 'unique_deals', 'avg_deal_cost')\n",
    "    .sort('avg_deal_cost')\n",
    "    .show(truncate=False)\n",
    ")"
   ]
  },
  {
   "cell_type": "code",
   "execution_count": 170,
   "id": "df67facf-1c0d-4165-b8b2-94504bb68068",
   "metadata": {},
   "outputs": [
    {
     "name": "stdout",
     "output_type": "stream",
     "text": [
      "+-----------------------------------------------+-----------+------------+-------------+\n",
      "|campaign_name                                  |total_costs|unique_deals|avg_deal_cost|\n",
      "+-----------------------------------------------+-----------+------------+-------------+\n",
      "|quarter_custom_kitchen_show_20240213           |16643.02   |1           |16643.02     |\n",
      "|month_contemporary_kitchen_showcase_20240630   |15908.47   |1           |15908.47     |\n",
      "|quarter_spacesaving_kitchen_innovation_20240825|15314.02   |1           |15314.02     |\n",
      "|year_luxury_kitchens_show_20241001             |15132.48   |1           |15132.48     |\n",
      "|year_traditional_kitchens_launch_20240707      |13893.29   |1           |13893.29     |\n",
      "|quarter_spacesaving_kitchen_showcase_20240228  |13126.07   |1           |13126.07     |\n",
      "|quarter_spacesaving_kitchen_innovation_20241103|13063.42   |1           |13063.42     |\n",
      "|month_custom_kitchens_show_20241205            |13045.27   |1           |13045.27     |\n",
      "|year_traditional_kitchens_experience_20240715  |12915.83   |1           |12915.83     |\n",
      "|year_luxury_kitchens_fair_20240716             |12740.17   |1           |12740.17     |\n",
      "|year_luxury_kitchens_exhibit_20240420          |12536.50   |1           |12536.50     |\n",
      "|year_traditional_kitchens_demo_20240725        |12243.64   |1           |12243.64     |\n",
      "|quarter_ecofriendly_kitchens_showcase_20240823 |11970.33   |1           |11970.33     |\n",
      "|month_contemporary_kitchen_launch_20240322     |11776.67   |1           |11776.67     |\n",
      "|month_smart_kitchens_event_20240614            |11721.06   |1           |11721.06     |\n",
      "|year_traditional_kitchens_initiative_20250105  |11587.21   |1           |11587.21     |\n",
      "|month_smart_kitchens_launch_20240905           |11558.59   |1           |11558.59     |\n",
      "|quarter_ecofriendly_kitchen_show_20240530      |11168.95   |1           |11168.95     |\n",
      "|year_luxury_kitchens_initiative_20241029       |18053.41   |2           |9026.71      |\n",
      "|year_modern_kitchen_initiative_20240408        |8816.60    |1           |8816.60      |\n",
      "+-----------------------------------------------+-----------+------------+-------------+\n",
      "only showing top 20 rows\n",
      "\n"
     ]
    }
   ],
   "source": [
    "(\n",
    "    campaigns_agg\n",
    "    .where('unique_deals > 0')\n",
    "    .select('campaign_name', 'total_costs', 'unique_deals', 'avg_deal_cost')\n",
    "    .sort('avg_deal_cost', ascending=False)\n",
    "    .show(truncate=False)\n",
    ")"
   ]
  },
  {
   "cell_type": "code",
   "execution_count": 174,
   "id": "d480b0bb-326c-4cbf-8a7a-2cd5ce3a5828",
   "metadata": {},
   "outputs": [
    {
     "name": "stdout",
     "output_type": "stream",
     "text": [
      "+-----------------------------------------------+-----------+------------+-------------+-------+---------+\n",
      "|campaign_name                                  |total_costs|unique_deals|avg_deal_cost|revenue|profit   |\n",
      "+-----------------------------------------------+-----------+------------+-------------+-------+---------+\n",
      "|quarter_custom_kitchens_experience_20240527    |15456.61   |0           |null         |0      |-15456.61|\n",
      "|month_openconcept_kitchens_experience_20240910 |14042.09   |0           |null         |0      |-14042.09|\n",
      "|month_openconcept_kitchens_initiative_20240328 |13321.93   |0           |null         |0      |-13321.93|\n",
      "|quarter_luxury_kitchens_innovation_20241116    |12894.26   |0           |null         |0      |-12894.26|\n",
      "|year_modern_kitchens_demo_20240419             |12028.69   |0           |null         |0      |-12028.69|\n",
      "|year_traditional_kitchens_showcase_20241018    |11655.58   |0           |null         |0      |-11655.58|\n",
      "|quarter_custom_kitchen_show_20240213           |16643.02   |1           |16643.02     |5000   |-11643.02|\n",
      "|month_contemporary_kitchen_showcase_20240630   |15908.47   |1           |15908.47     |5000   |-10908.47|\n",
      "|quarter_ecofriendly_kitchen_experience_20241119|10804.92   |0           |null         |0      |-10804.92|\n",
      "|month_contemporary_kitchens_event_20240920     |10640.55   |0           |null         |0      |-10640.55|\n",
      "|month_ecofriendly_kitchens_experience_20241219 |10559.40   |0           |null         |0      |-10559.40|\n",
      "|quarter_spacesaving_kitchen_innovation_20240825|15314.02   |1           |15314.02     |5000   |-10314.02|\n",
      "|month_smart_kitchen_promotion_20240305         |10276.42   |0           |null         |0      |-10276.42|\n",
      "|year_luxury_kitchens_show_20241001             |15132.48   |1           |15132.48     |5000   |-10132.48|\n",
      "|year_traditional_kitchens_launch_20240707      |13893.29   |1           |13893.29     |5000   |-8893.29 |\n",
      "|month_smart_kitchens_launch_20240330           |8703.22    |0           |null         |0      |-8703.22 |\n",
      "|quarter_custom_kitchens_showcase_20240210      |8397.63    |0           |null         |0      |-8397.63 |\n",
      "|month_contemporary_kitchens_event_20241208     |8277.73    |0           |null         |0      |-8277.73 |\n",
      "|quarter_spacesaving_kitchen_showcase_20240228  |13126.07   |1           |13126.07     |5000   |-8126.07 |\n",
      "|quarter_spacesaving_kitchen_innovation_20241103|13063.42   |1           |13063.42     |5000   |-8063.42 |\n",
      "+-----------------------------------------------+-----------+------------+-------------+-------+---------+\n",
      "only showing top 20 rows\n",
      "\n"
     ]
    }
   ],
   "source": [
    "# 3. Убыточные кампании. Пусть каждая сделка стоит 5к\n",
    "(\n",
    "    campaigns_agg\n",
    "    .select('campaign_name', 'total_costs', 'unique_deals', 'avg_deal_cost')\n",
    "    .withColumn('revenue', F.col('unique_deals') * F.lit(5000))\n",
    "    .withColumn('profit', F.col('revenue') - F.col('total_costs'))\n",
    "    .sort('profit')\n",
    "    .show(truncate=False)\n",
    ")"
   ]
  },
  {
   "cell_type": "code",
   "execution_count": 175,
   "id": "fc6f1434-a1c3-4c8b-87d8-42147cb61981",
   "metadata": {},
   "outputs": [
    {
     "name": "stdout",
     "output_type": "stream",
     "text": [
      "+------------------------------------------------+-----------+------------+-------------+-------+--------+\n",
      "|campaign_name                                   |total_costs|unique_deals|avg_deal_cost|revenue|profit  |\n",
      "+------------------------------------------------+-----------+------------+-------------+-------+--------+\n",
      "|quarter_custom_kitchens_innovation_20240817     |15422.19   |10          |1542.22      |50000  |34577.81|\n",
      "|quarter_custom_kitchens_experience_20240222     |15455.11   |9           |1717.23      |45000  |29544.89|\n",
      "|year_modern_kitchens_showcase_20241014          |10936.74   |8           |1367.09      |40000  |29063.26|\n",
      "|month_contemporary_kitchens_promotion_20241215  |12423.61   |8           |1552.95      |40000  |27576.39|\n",
      "|quarter_custom_kitchen_initiative_20241102      |18846.27   |8           |2355.78      |40000  |21153.73|\n",
      "|year_traditional_kitchens_fair_20240415         |20811.03   |8           |2601.38      |40000  |19188.97|\n",
      "|year_smart_kitchens_initiative_20241004         |12958.53   |6           |2159.76      |30000  |17041.47|\n",
      "|year_modern_kitchen_experience_20240702         |9068.35    |5           |1813.67      |25000  |15931.65|\n",
      "|month_openconcept_kitchens_promotion_20240628   |15318.45   |6           |2553.08      |30000  |14681.55|\n",
      "|quarter_spacesaving_kitchens_innovation_20240212|16360.49   |6           |2726.75      |30000  |13639.51|\n",
      "|year_smart_kitchens_event_20250102              |13104.20   |5           |2620.84      |25000  |11895.80|\n",
      "|year_luxury_kitchens_initiative_20240422        |15571.00   |5           |3114.20      |25000  |9429.00 |\n",
      "|year_modern_kitchens_exhibit_20250117           |11588.74   |4           |2897.19      |20000  |8411.26 |\n",
      "|month_openconcept_kitchens_launch_20240611      |11876.59   |4           |2969.15      |20000  |8123.41 |\n",
      "|quarter_ecofriendly_kitchens_show_20240217      |17046.15   |5           |3409.23      |25000  |7953.85 |\n",
      "|month_smart_kitchen_innovation_20241202         |12190.29   |4           |3047.57      |20000  |7809.71 |\n",
      "|year_luxury_kitchens_innovation_20240409        |12445.78   |4           |3111.45      |20000  |7554.22 |\n",
      "|quarter_custom_kitchens_initiative_20240815     |22601.90   |6           |3766.98      |30000  |7398.10 |\n",
      "|quarter_custom_kitchens_event_20240223          |12704.20   |4           |3176.05      |20000  |7295.80 |\n",
      "|month_contemporary_kitchens_initiative_20240928 |12734.58   |4           |3183.65      |20000  |7265.42 |\n",
      "+------------------------------------------------+-----------+------------+-------------+-------+--------+\n",
      "only showing top 20 rows\n",
      "\n"
     ]
    }
   ],
   "source": [
    "# 4. Самые прибыльные кампании\n",
    "(\n",
    "    campaigns_agg\n",
    "    .select('campaign_name', 'total_costs', 'unique_deals', 'avg_deal_cost')\n",
    "    .withColumn('revenue', F.col('unique_deals') * F.lit(5000))\n",
    "    .withColumn('profit', F.col('revenue') - F.col('total_costs'))\n",
    "    .sort(F.desc('profit'))\n",
    "    .show(truncate=False)\n",
    ")"
   ]
  },
  {
   "cell_type": "code",
   "execution_count": 178,
   "id": "eeb55822-cd07-470b-ba15-11603e500db5",
   "metadata": {},
   "outputs": [
    {
     "name": "stdout",
     "output_type": "stream",
     "text": [
      "+-------+-------------+--------------+--------------+------------+-----------+------------+-------------+-------+---------+\n",
      "|  month|unique_visits|unique_clients|unique_submits|unique_deals|total_costs|total_clicks|avg_deal_cost|revenue|   profit|\n",
      "+-------+-------------+--------------+--------------+------------+-----------+------------+-------------+-------+---------+\n",
      "|2024-01|          202|           183|            66|          36|  108348.27|       10843|      3009.67| 180000| 71651.73|\n",
      "|2024-02|          185|           165|            56|          27|  101600.49|        8733|      3762.98| 135000| 33399.51|\n",
      "|2024-03|          183|           164|            58|          35|  100875.50|        9967|      2882.16| 175000| 74124.50|\n",
      "|2024-04|          184|           163|            53|          21|   97707.65|        9748|      4652.75| 105000|  7292.35|\n",
      "|2024-05|          191|           177|            68|          30|  101051.11|       10386|      3368.37| 150000| 48948.89|\n",
      "|2024-06|          212|           184|            72|          21|  122330.98|       10899|      5825.28| 105000|-17330.98|\n",
      "|2024-07|          226|           200|            98|          32|  126136.19|       11901|      3941.76| 160000| 33863.81|\n",
      "|2024-08|          186|           168|            60|          19|  100222.45|       10341|      5274.87|  95000| -5222.45|\n",
      "|2024-09|          192|           169|            68|          16|  100674.35|       10320|      6292.15|  80000|-20674.35|\n",
      "|2024-10|          166|           154|            48|           8|   89332.80|        8674|     11166.60|  40000|-49332.80|\n",
      "|2024-11|          169|           153|            55|          10|   94794.40|        8954|      9479.44|  50000|-44794.40|\n",
      "|2024-12|          194|           173|            61|           3|   94718.99|       10093|     31573.00|  15000|-79718.99|\n",
      "|2025-01|          143|           131|            49|           1|   75960.21|        7576|     75960.21|   5000|-70960.21|\n",
      "+-------+-------------+--------------+--------------+------------+-----------+------------+-------------+-------+---------+\n",
      "\n"
     ]
    }
   ],
   "source": [
    "# 5. Метрики в разбивке по месяцам\n",
    "(\n",
    "    dates_agg\n",
    "    .withColumn('revenue', F.col('unique_deals') * F.lit(5000))\n",
    "    .withColumn('profit', F.col('revenue') - F.col('total_costs'))\n",
    "    .drop('total_duration', 'total_views')\n",
    "    .sort('month')\n",
    "    .show()\n",
    ")"
   ]
  },
  {
   "cell_type": "code",
   "execution_count": 179,
   "id": "24ed355b-ea59-4736-b9f6-a05e956bc413",
   "metadata": {},
   "outputs": [
    {
     "name": "stdout",
     "output_type": "stream",
     "text": [
      "+----------------+\n",
      "|sum(total_costs)|\n",
      "+----------------+\n",
      "|      1313753.39|\n",
      "+----------------+\n",
      "\n"
     ]
    }
   ],
   "source": [
    "# 6. Сколько всего потратили денег на рекламу за год\n",
    "dates_agg.select(F.sum('total_costs')).show()"
   ]
  },
  {
   "cell_type": "markdown",
   "id": "811d13f5",
   "metadata": {},
   "source": [
    "## Освобождаем ресурсы, останавливаем Spark-сессию"
   ]
  },
  {
   "cell_type": "code",
   "execution_count": 180,
   "id": "1af657f2",
   "metadata": {},
   "outputs": [
    {
     "data": {
      "text/plain": [
       "DataFrame[month: string, unique_visits: bigint, unique_clients: bigint, unique_submits: bigint, unique_deals: bigint, total_costs: decimal(29,2), total_clicks: bigint, total_views: bigint, total_duration: bigint, avg_deal_cost: decimal(19,2)]"
      ]
     },
     "execution_count": 180,
     "metadata": {},
     "output_type": "execute_result"
    }
   ],
   "source": [
    "# Spark UI\n",
    "customer_detailed.unpersist()\n",
    "campaigns_agg.unpersist()\n",
    "dates_agg.unpersist()"
   ]
  },
  {
   "cell_type": "code",
   "execution_count": 181,
   "id": "0ad473fe",
   "metadata": {},
   "outputs": [],
   "source": [
    "spark.stop()"
   ]
  },
  {
   "cell_type": "code",
   "execution_count": null,
   "id": "cdfe87cb-b0bd-4f1a-91da-a6d0d4e595c1",
   "metadata": {},
   "outputs": [],
   "source": []
  }
 ],
 "metadata": {
  "kernelspec": {
   "display_name": "Python 3 (ipykernel)",
   "language": "python",
   "name": "python3"
  },
  "language_info": {
   "codemirror_mode": {
    "name": "ipython",
    "version": 3
   },
   "file_extension": ".py",
   "mimetype": "text/x-python",
   "name": "python",
   "nbconvert_exporter": "python",
   "pygments_lexer": "ipython3",
   "version": "3.12.7"
  }
 },
 "nbformat": 4,
 "nbformat_minor": 5
}
