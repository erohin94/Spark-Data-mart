{
 "cells": [
  {
   "cell_type": "markdown",
   "id": "941df1ff-2066-495d-ab74-2c55b4c14562",
   "metadata": {},
   "source": [
    "## **Создаем Spark-сессию**"
   ]
  },
  {
   "cell_type": "code",
   "execution_count": 1,
   "id": "8cd6acfd-9fee-4cf3-a27a-1da352a13365",
   "metadata": {},
   "outputs": [],
   "source": [
    "import pyspark.sql.functions as F\n",
    "from pyspark.sql import SparkSession\n",
    "from pyspark.sql.window import Window"
   ]
  },
  {
   "cell_type": "code",
   "execution_count": 2,
   "id": "3a4c635e-d48c-4fe3-a512-332d3e0073a5",
   "metadata": {},
   "outputs": [],
   "source": [
    "jar_files = [\n",
    "    \"/usr/local/spark/jars/postgresql-42.6.0.jar\",\n",
    "    \"/usr/local/spark/jars/clickhouse-jdbc-0.4.6-all.jar\"\n",
    "]"
   ]
  },
  {
   "cell_type": "code",
   "execution_count": 3,
   "id": "d7b52079-bafc-4380-b1e0-ec5217baf246",
   "metadata": {},
   "outputs": [
    {
     "name": "stderr",
     "output_type": "stream",
     "text": [
      "WARNING: Using incubator modules: jdk.incubator.vector\n",
      "25/10/25 18:09:10 WARN NativeCodeLoader: Unable to load native-hadoop library for your platform... using builtin-java classes where applicable\n",
      "Using Spark's default log4j profile: org/apache/spark/log4j2-defaults.properties\n",
      "Setting default log level to \"WARN\".\n",
      "To adjust logging level use sc.setLogLevel(newLevel). For SparkR, use setLogLevel(newLevel).\n"
     ]
    }
   ],
   "source": [
    "spark = (\n",
    "    SparkSession\n",
    "    .builder\n",
    "    .appName(\"SparkDataMart\")\n",
    "    .config(\"spark.jars\", \",\".join(jar_files))\n",
    "    .getOrCreate()\n",
    ")"
   ]
  },
  {
   "cell_type": "code",
   "execution_count": 4,
   "id": "ddcb9038-42e9-4157-9f23-5a7f3268cf21",
   "metadata": {},
   "outputs": [
    {
     "data": {
      "text/plain": [
       "'/usr/local/spark/jars/postgresql-42.6.0.jar,/usr/local/spark/jars/clickhouse-jdbc-0.4.6-all.jar'"
      ]
     },
     "execution_count": 4,
     "metadata": {},
     "output_type": "execute_result"
    }
   ],
   "source": [
    "\",\".join(jar_files)"
   ]
  },
  {
   "cell_type": "code",
   "execution_count": 5,
   "id": "8f74fc07-44d4-4675-933f-2b3ddb73ed7c",
   "metadata": {},
   "outputs": [
    {
     "data": {
      "text/html": [
       "\n",
       "            <div>\n",
       "                <p><b>SparkSession - in-memory</b></p>\n",
       "                \n",
       "        <div>\n",
       "            <p><b>SparkContext</b></p>\n",
       "\n",
       "            <p><a href=\"http://98630a2ac02b:4040\">Spark UI</a></p>\n",
       "\n",
       "            <dl>\n",
       "              <dt>Version</dt>\n",
       "                <dd><code>v4.0.1</code></dd>\n",
       "              <dt>Master</dt>\n",
       "                <dd><code>local[*]</code></dd>\n",
       "              <dt>AppName</dt>\n",
       "                <dd><code>SparkDataMart</code></dd>\n",
       "            </dl>\n",
       "        </div>\n",
       "        \n",
       "            </div>\n",
       "        "
      ],
      "text/plain": [
       "<pyspark.sql.session.SparkSession at 0x7fcd283308d0>"
      ]
     },
     "execution_count": 5,
     "metadata": {},
     "output_type": "execute_result"
    }
   ],
   "source": [
    "spark"
   ]
  },
  {
   "cell_type": "markdown",
   "id": "b2b0ae00-1049-4c3f-9c94-8f90e6e918ef",
   "metadata": {},
   "source": [
    "## **Подключаемся к источникам**"
   ]
  },
  {
   "cell_type": "markdown",
   "id": "d922af6d-3f32-4927-9126-308ff7f661bc",
   "metadata": {},
   "source": [
    "**csv**"
   ]
  },
  {
   "cell_type": "code",
   "execution_count": 6,
   "id": "5b2b6969-4f9f-4d8c-992f-727ec85c9d18",
   "metadata": {},
   "outputs": [],
   "source": [
    "path = \"/home/jovyan/work/data\""
   ]
  },
  {
   "cell_type": "code",
   "execution_count": 7,
   "id": "08689152-7b02-4de8-8006-707564e05bf5",
   "metadata": {},
   "outputs": [],
   "source": [
    "campaigns_dict = (\n",
    "    spark.read\n",
    "    .option('header', True)\n",
    "    .csv(f'{path}/campaigns_dict.csv')\n",
    ")"
   ]
  },
  {
   "cell_type": "code",
   "execution_count": 8,
   "id": "331bfbeb-6adb-466f-a1b7-3fa1fe4ed118",
   "metadata": {},
   "outputs": [
    {
     "name": "stdout",
     "output_type": "stream",
     "text": [
      "+-----------+------------------------------------------+\n",
      "|campaign_id|campaign_name                             |\n",
      "+-----------+------------------------------------------+\n",
      "|1          |year_modern_kitchen_launch_20250115       |\n",
      "|2          |quarter_custom_kitchens_showcase_20240210 |\n",
      "|3          |month_smart_kitchen_promotion_20240305    |\n",
      "|4          |year_luxury_kitchens_exhibit_20240420     |\n",
      "|5          |quarter_ecofriendly_kitchen_offer_20240512|\n",
      "+-----------+------------------------------------------+\n",
      "only showing top 5 rows\n"
     ]
    }
   ],
   "source": [
    "# ленивые вычисления (transformations, actions)\n",
    "campaigns_dict.show(5, truncate=False) #truncate=False - чтобы Spark не обрезал текст до определенного количества символов при выводе, а выводил все"
   ]
  },
  {
   "cell_type": "code",
   "execution_count": 9,
   "id": "ee800be4-1433-4f77-80c5-811607c57a44",
   "metadata": {},
   "outputs": [
    {
     "name": "stdout",
     "output_type": "stream",
     "text": [
      "root\n",
      " |-- campaign_id: string (nullable = true)\n",
      " |-- campaign_name: string (nullable = true)\n",
      "\n"
     ]
    }
   ],
   "source": [
    "campaigns_dict.printSchema()"
   ]
  },
  {
   "cell_type": "markdown",
   "id": "47934dc4-9adf-4501-97da-7e59247aacae",
   "metadata": {},
   "source": [
    "**parquet**"
   ]
  },
  {
   "cell_type": "code",
   "execution_count": 10,
   "id": "ec9b1450-889c-4c8a-93f2-72168408f107",
   "metadata": {},
   "outputs": [],
   "source": [
    "submits = spark.read.parquet(f'{path}/submits.parquet')"
   ]
  },
  {
   "cell_type": "code",
   "execution_count": 11,
   "id": "4b3572d1-8177-4617-a600-082886ff95d6",
   "metadata": {},
   "outputs": [
    {
     "name": "stdout",
     "output_type": "stream",
     "text": [
      "+---------+--------+-----------+\n",
      "|submit_id|name    |phone      |\n",
      "+---------+--------+-----------+\n",
      "|2282     |Jennifer|79511904041|\n",
      "|9898     |Jeffrey |79824419733|\n",
      "|9005     |Linda   |79074725672|\n",
      "|1507     |Teresa  |79864203598|\n",
      "|3803     |Tanya   |79779567654|\n",
      "+---------+--------+-----------+\n",
      "only showing top 5 rows\n"
     ]
    }
   ],
   "source": [
    "submits.show(5, truncate=False)"
   ]
  },
  {
   "cell_type": "code",
   "execution_count": 12,
   "id": "e68dff3e-a5fe-4a71-926c-2d56c00cea77",
   "metadata": {},
   "outputs": [
    {
     "name": "stdout",
     "output_type": "stream",
     "text": [
      "root\n",
      " |-- submit_id: long (nullable = true)\n",
      " |-- name: string (nullable = true)\n",
      " |-- phone: long (nullable = true)\n",
      "\n"
     ]
    }
   ],
   "source": [
    "submits.printSchema()"
   ]
  },
  {
   "cell_type": "code",
   "execution_count": 13,
   "id": "90e87eaf-ff82-4f63-aab4-be9f6d5dc651",
   "metadata": {},
   "outputs": [],
   "source": [
    "deals = spark.read.parquet(f'{path}/deals.parquet')"
   ]
  },
  {
   "cell_type": "code",
   "execution_count": 14,
   "id": "376ccdf1-636c-4d5d-96c8-29793d083455",
   "metadata": {},
   "outputs": [
    {
     "name": "stdout",
     "output_type": "stream",
     "text": [
      "+-------+----------+---------------------+-----------+------------------------+-----------------------------------------------------+\n",
      "|deal_id|deal_date |fio                  |phone      |email                   |address                                              |\n",
      "+-------+----------+---------------------+-----------+------------------------+-----------------------------------------------------+\n",
      "|1      |2024-03-04|Gregory Wu           |79746561889|paul80@example.net      |098 Yates Cliff Apt. 241, East Monica, DE 88076      |\n",
      "|2      |2024-08-20|William Ross Jr.     |79074725672|xyoung@example.org      |197 Willie Groves Apt. 655, Port Angelaberg, LA 39384|\n",
      "|3      |2024-10-15|Sonya Kerr           |79201244835|elewis@example.com      |144 Andrew Cape, Lake Nicholas, SC 58918             |\n",
      "|4      |2024-12-31|Mrs. Angela Tucker MD|79771829751|robertparker@example.net|6056 Collins View, South Harold, OR 15650            |\n",
      "|5      |2024-03-23|Eric Flores          |79729054809|barbara73@example.net   |29684 Mcfarland Burg Suite 225, New Joseph, PW 68120 |\n",
      "+-------+----------+---------------------+-----------+------------------------+-----------------------------------------------------+\n",
      "only showing top 5 rows\n"
     ]
    }
   ],
   "source": [
    "deals.show(5, truncate=False)"
   ]
  },
  {
   "cell_type": "code",
   "execution_count": 15,
   "id": "ac7b4c14-79f7-454f-8ef8-ef0446fb098d",
   "metadata": {},
   "outputs": [
    {
     "name": "stdout",
     "output_type": "stream",
     "text": [
      "-RECORD 0----------------------------------------------------------\n",
      " deal_id   | 1                                                     \n",
      " deal_date | 2024-03-04                                            \n",
      " fio       | Gregory Wu                                            \n",
      " phone     | 79746561889                                           \n",
      " email     | paul80@example.net                                    \n",
      " address   | 098 Yates Cliff Apt. 241, East Monica, DE 88076       \n",
      "-RECORD 1----------------------------------------------------------\n",
      " deal_id   | 2                                                     \n",
      " deal_date | 2024-08-20                                            \n",
      " fio       | William Ross Jr.                                      \n",
      " phone     | 79074725672                                           \n",
      " email     | xyoung@example.org                                    \n",
      " address   | 197 Willie Groves Apt. 655, Port Angelaberg, LA 39384 \n",
      "only showing top 2 rows\n"
     ]
    }
   ],
   "source": [
    "deals.show(2, truncate=False, vertical=True)"
   ]
  },
  {
   "cell_type": "code",
   "execution_count": 23,
   "id": "9e68f0c0-c135-44f4-98da-90620e9b9401",
   "metadata": {},
   "outputs": [
    {
     "name": "stdout",
     "output_type": "stream",
     "text": [
      "root\n",
      " |-- deal_id: long (nullable = true)\n",
      " |-- deal_date: string (nullable = true)\n",
      " |-- fio: string (nullable = true)\n",
      " |-- phone: long (nullable = true)\n",
      " |-- email: string (nullable = true)\n",
      " |-- address: string (nullable = true)\n",
      "\n"
     ]
    }
   ],
   "source": [
    "deals.printSchema()"
   ]
  },
  {
   "cell_type": "markdown",
   "id": "dbd2a0b2-3683-4837-9f47-cc82193ec8d6",
   "metadata": {},
   "source": [
    "**Установка pyarrow**"
   ]
  },
  {
   "cell_type": "code",
   "execution_count": 19,
   "id": "30ee6395-71f1-4b3e-8a09-5e9e81a7a766",
   "metadata": {},
   "outputs": [
    {
     "name": "stdout",
     "output_type": "stream",
     "text": [
      "Files removed: 6\n"
     ]
    }
   ],
   "source": [
    "# Удалим все старые закачки\n",
    "!pip cache purge"
   ]
  },
  {
   "cell_type": "code",
   "execution_count": 20,
   "id": "8fce1576-e289-439d-b0ca-16c72b4a8141",
   "metadata": {},
   "outputs": [
    {
     "name": "stdout",
     "output_type": "stream",
     "text": [
      "Requirement already satisfied: pip in /opt/conda/lib/python3.11/site-packages (23.3)\n",
      "Collecting pip\n",
      "  Downloading pip-25.3-py3-none-any.whl.metadata (4.7 kB)\n",
      "Downloading pip-25.3-py3-none-any.whl (1.8 MB)\n",
      "\u001b[2K   \u001b[90m━━━━━━━━━━━━━━━━━━━━━━━━━━━━━━━━━━━━━━━━\u001b[0m \u001b[32m1.8/1.8 MB\u001b[0m \u001b[31m138.1 kB/s\u001b[0m eta \u001b[36m0:00:00\u001b[0m00:01\u001b[0m00:01\u001b[0m\n",
      "\u001b[?25hInstalling collected packages: pip\n",
      "  Attempting uninstall: pip\n",
      "    Found existing installation: pip 23.3\n",
      "    Uninstalling pip-23.3:\n",
      "      Successfully uninstalled pip-23.3\n",
      "Successfully installed pip-25.3\n"
     ]
    }
   ],
   "source": [
    "# Обновим pip до последней версии\n",
    "!pip install --upgrade pip"
   ]
  },
  {
   "cell_type": "code",
   "execution_count": 21,
   "id": "d74bd3bf-45a6-40ea-88d9-6f7290225f83",
   "metadata": {},
   "outputs": [
    {
     "name": "stdout",
     "output_type": "stream",
     "text": [
      "Collecting pyarrow\n",
      "  Downloading pyarrow-22.0.0-cp311-cp311-manylinux_2_28_x86_64.whl.metadata (3.2 kB)\n",
      "Downloading pyarrow-22.0.0-cp311-cp311-manylinux_2_28_x86_64.whl (47.7 MB)\n",
      "\u001b[2K   \u001b[91m━━━━━━━━━━━━━━━━\u001b[0m\u001b[91m╸\u001b[0m\u001b[90m━━━━━━━━━━━━━━━━━━━━━━━\u001b[0m \u001b[32m20.0/47.7 MB\u001b[0m \u001b[31m275.9 kB/s\u001b[0m  \u001b[36m0:01:41\u001b[0m[0m\n",
      "\u001b[?25h\u001b[33mWARNING: Attempting to resume incomplete download (20.0 MB/47.7 MB, attempt 1)\u001b[0m\u001b[33m\n",
      "\u001b[0mResuming download pyarrow-22.0.0-cp311-cp311-manylinux_2_28_x86_64.whl (20.0 MB/47.7 MB)\n",
      "\u001b[2K   \u001b[91m━━━━━━━━━━━━━━━━━━\u001b[0m\u001b[90m╺\u001b[0m\u001b[90m━━━━━━━━━━━━━━━━━━━━━\u001b[0m \u001b[32m21.8/47.7 MB\u001b[0m \u001b[31m240.0 kB/s\u001b[0m  \u001b[36m0:01:48\u001b[0m[0m\n",
      "\u001b[?25h\u001b[33mWARNING: Attempting to resume incomplete download (21.8 MB/47.7 MB, attempt 2)\u001b[0m\u001b[33m\n",
      "\u001b[0mResuming download pyarrow-22.0.0-cp311-cp311-manylinux_2_28_x86_64.whl (21.8 MB/47.7 MB)\n",
      "\u001b[2K   \u001b[91m━━━━━━━━━━━━━━━━━━━\u001b[0m\u001b[91m╸\u001b[0m\u001b[90m━━━━━━━━━━━━━━━━━━━━\u001b[0m \u001b[32m23.8/47.7 MB\u001b[0m \u001b[31m73.8 kB/s\u001b[0m  \u001b[36m0:05:25\u001b[0m[0m\n",
      "\u001b[?25h\u001b[33mWARNING: Attempting to resume incomplete download (23.8 MB/47.7 MB, attempt 3)\u001b[0m\u001b[33m\n",
      "\u001b[0mResuming download pyarrow-22.0.0-cp311-cp311-manylinux_2_28_x86_64.whl (23.8 MB/47.7 MB)\n",
      "\u001b[2K   \u001b[91m━━━━━━━━━━━━━━━━━━━━━━\u001b[0m\u001b[90m╺\u001b[0m\u001b[90m━━━━━━━━━━━━━━━━━\u001b[0m \u001b[32m26.7/47.7 MB\u001b[0m \u001b[31m73.0 kB/s\u001b[0m  \u001b[36m0:04:49\u001b[0m[0mm\n",
      "\u001b[?25h\u001b[33mWARNING: Attempting to resume incomplete download (26.7 MB/47.7 MB, attempt 4)\u001b[0m\u001b[33m\n",
      "\u001b[0mResuming download pyarrow-22.0.0-cp311-cp311-manylinux_2_28_x86_64.whl (26.7 MB/47.7 MB)\n",
      "\u001b[2K   \u001b[90m━━━━━━━━━━━━━━━━━━━━━━━━━━━━━━━━━━━━━━━━\u001b[0m \u001b[32m47.7/47.7 MB\u001b[0m \u001b[31m195.9 kB/s\u001b[0m  \u001b[33m0:01:03\u001b[0mm0:00:02\u001b[0m00:08\u001b[0m\n",
      "\u001b[?25hInstalling collected packages: pyarrow\n",
      "Successfully installed pyarrow-22.0.0\n"
     ]
    }
   ],
   "source": [
    "# Установим pyarrow без кэша и без проверки хэшей\n",
    "!pip install --no-cache-dir --no-deps pyarrow"
   ]
  },
  {
   "cell_type": "code",
   "execution_count": 22,
   "id": "cc3c4e8b-f070-471a-a453-875875e38db9",
   "metadata": {},
   "outputs": [
    {
     "name": "stdout",
     "output_type": "stream",
     "text": [
      "22.0.0\n"
     ]
    }
   ],
   "source": [
    "import pyarrow as pa\n",
    "import pyarrow.parquet as pq\n",
    "print(pa.__version__)"
   ]
  },
  {
   "cell_type": "code",
   "execution_count": 24,
   "id": "191f804a-3f24-4c15-8715-47c97763c094",
   "metadata": {},
   "outputs": [
    {
     "data": {
      "text/plain": [
       "<pyarrow._parquet.FileMetaData object at 0x7fcd31d3f010>\n",
       "  created_by: parquet-cpp-arrow version 19.0.0\n",
       "  num_columns: 3\n",
       "  num_rows: 4000\n",
       "  num_row_groups: 1\n",
       "  format_version: 2.6\n",
       "  serialized_size: 2371"
      ]
     },
     "execution_count": 24,
     "metadata": {},
     "output_type": "execute_result"
    }
   ],
   "source": [
    "pq.read_metadata(f'{path}/submits.parquet')  # Parquet recommends row groups sized between 512MB and 1GB"
   ]
  },
  {
   "cell_type": "code",
   "execution_count": 25,
   "id": "a6f125d3-819b-4901-b5f3-40b53915905c",
   "metadata": {},
   "outputs": [
    {
     "data": {
      "text/plain": [
       "4000"
      ]
     },
     "execution_count": 25,
     "metadata": {},
     "output_type": "execute_result"
    }
   ],
   "source": [
    "submits.count() # количество строк"
   ]
  },
  {
   "cell_type": "code",
   "execution_count": null,
   "id": "f83b08f4-4ac6-4895-8855-fae2886f7bd6",
   "metadata": {},
   "outputs": [],
   "source": []
  }
 ],
 "metadata": {
  "kernelspec": {
   "display_name": "Python 3 (ipykernel)",
   "language": "python",
   "name": "python3"
  },
  "language_info": {
   "codemirror_mode": {
    "name": "ipython",
    "version": 3
   },
   "file_extension": ".py",
   "mimetype": "text/x-python",
   "name": "python",
   "nbconvert_exporter": "python",
   "pygments_lexer": "ipython3",
   "version": "3.11.6"
  }
 },
 "nbformat": 4,
 "nbformat_minor": 5
}
